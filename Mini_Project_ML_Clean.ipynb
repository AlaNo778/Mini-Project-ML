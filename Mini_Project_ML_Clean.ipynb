{
  "nbformat": 4,
  "nbformat_minor": 0,
  "metadata": {
    "colab": {
      "provenance": []
    },
    "kernelspec": {
      "name": "python3",
      "display_name": "Python 3"
    },
    "language_info": {
      "name": "python"
    }
  },
  "cells": [
    {
      "cell_type": "markdown",
      "source": [
        "เกี่ยวกับชุดข้อมูล  \n",
        "ชุดข้อมูลนี้ประกอบด้วยคุณสมบัติทางคลินิกและพยาธิสภาพ 13 รายการที่มุ่งทำนายการกลับมาเป็นซ้ำของมะเร็งไทรอยด์ที่มีความแตกต่างดี ชุดข้อมูลนี้ถูกรวบรวมเป็นระยะเวลา 15 ปี และผู้ป่วยแต่ละรายถูกติดตามเป็นเวลานานอย่างน้อย 10 ปี  \n",
        "\n",
        "ลักษณะของชุดข้อมูล: ข้อมูลเชิงตาราง (Tabular)\n",
        "\n",
        "ประเภทของข้อมูล: จำนวนจริง (Real), ข้อมูลเชิงหมวดหมู่ (Categorical), จำนวนเต็ม (Integer)\n",
        "\n",
        "จำนวนคุณสมบัติ: 16 รายการ\n",
        "\n",
        "งานที่เกี่ยวข้อง: การจัดประเภท (Classification)\n",
        "\n",
        "**ตัวแปร:**\n",
        "\n",
        "- **Age**: คุณสมบัติ, จำนวนเต็ม\n",
        "- **Gender**: คุณสมบัติ, เชิงหมวดหมู่\n",
        "- **Smoking**: คุณสมบัติ, เชิงหมวดหมู่\n",
        "- **Hx Smoking**: คุณสมบัติ, เชิงหมวดหมู่ (ประวัติการสูบบุหรี่)\n",
        "- **Hx Radiotherapy**: คุณสมบัติ, เชิงหมวดหมู่ (ประวัติการรับการรักษาด้วยรังสี)\n",
        "- **Thyroid Function**: คุณสมบัติ, เชิงหมวดหมู่ (การทำงานของต่อมไทรอยด์)\n",
        "- **Physical Examination**: คุณสมบัติ, เชิงหมวดหมู่ (การตรวจร่างกาย)\n",
        "- **Adenopathy**: คุณสมบัติ, เชิงหมวดหมู่ (ภาวะต่อมน้ำเหลืองโต)\n",
        "- **Pathology**: คุณสมบัติ, เชิงหมวดหมู่ (พยาธิสภาพ)\n",
        "- **Focality**: คุณสมบัติ, เชิงหมวดหมู่ (ลักษณะของโรค)\n",
        "- **Risk**: คุณสมบัติ, เชิงหมวดหมู่ (ความเสี่ยง)\n",
        "- **T**: คุณสมบัติ, เชิงหมวดหมู่ (ระดับการเติบโตของเนื้องอก)\n",
        "- **N**: คุณสมบัติ, เชิงหมวดหมู่ (ระดับการลุกลามไปยังต่อมน้ำเหลือง)\n",
        "- **M**: คุณสมบัติ, เชิงหมวดหมู่ (ระดับการแพร่กระจายของโรค)\n",
        "- **Stage**: คุณสมบัติ, เชิงหมวดหมู่ (ระยะของโรค)\n",
        "- **Response**: คุณสมบัติ, เชิงหมวดหมู่ (การตอบสนองต่อการรักษา)\n",
        "\n",
        "**ตัวแปรเป้าหมาย:**\n",
        "\n",
        "- **Recurred**: ตัวแปรเป้าหมาย, เชิงหมวดหมู่ (การกลับมาเป็นซ้ำ)\n",
        "\n"
      ],
      "metadata": {
        "id": "61W1UiVJ3YGQ"
      }
    },
    {
      "cell_type": "markdown",
      "source": [
        "#Load Dataset"
      ],
      "metadata": {
        "id": "kIATpxUhiG0g"
      }
    },
    {
      "cell_type": "code",
      "execution_count": null,
      "metadata": {
        "id": "442P3tk5zt6T"
      },
      "outputs": [],
      "source": [
        "import pandas as pd\n",
        "pima = pd.read_csv(\"Thyroid_Diff.csv\")"
      ]
    },
    {
      "cell_type": "markdown",
      "source": [
        "#Clean Data"
      ],
      "metadata": {
        "id": "ElweKnWZqb_R"
      }
    },
    {
      "cell_type": "code",
      "source": [
        "import seaborn as sns\n",
        "import matplotlib.pyplot as plt"
      ],
      "metadata": {
        "id": "AhYydYVeTTNu"
      },
      "execution_count": null,
      "outputs": []
    },
    {
      "cell_type": "code",
      "source": [
        "pima.columns"
      ],
      "metadata": {
        "colab": {
          "base_uri": "https://localhost:8080/"
        },
        "id": "iAiJ0yyhTWzX",
        "outputId": "d972ee84-b691-4d9f-cc41-bc196b30cc6d"
      },
      "execution_count": null,
      "outputs": [
        {
          "output_type": "execute_result",
          "data": {
            "text/plain": [
              "Index(['Age', 'Gender', 'Smoking', 'Hx Smoking', 'Hx Radiothreapy',\n",
              "       'Thyroid Function', 'Physical Examination', 'Adenopathy', 'Pathology',\n",
              "       'Focality', 'Risk', 'T', 'N', 'M', 'Stage', 'Response', 'Recurred'],\n",
              "      dtype='object')"
            ]
          },
          "metadata": {},
          "execution_count": 42
        }
      ]
    },
    {
      "cell_type": "code",
      "source": [
        "sns.boxplot(data=pima, y='Age')"
      ],
      "metadata": {
        "colab": {
          "base_uri": "https://localhost:8080/",
          "height": 428
        },
        "id": "XGCNI-rNTZ9f",
        "outputId": "43dcea5b-4259-4fed-c2d5-c6eefc3ad226"
      },
      "execution_count": null,
      "outputs": [
        {
          "output_type": "execute_result",
          "data": {
            "text/plain": [
              "<Axes: ylabel='Age'>"
            ]
          },
          "metadata": {},
          "execution_count": 16
        },
        {
          "output_type": "display_data",
          "data": {
            "text/plain": [
              "<Figure size 640x480 with 1 Axes>"
            ],
            "image/png": "[encoded data removed]"
          },
          "metadata": {}
        }
      ]
    },
    {
      "cell_type": "code",
      "source": [
        "pima.isnull().sum()"
      ],
      "metadata": {
        "colab": {
          "base_uri": "https://localhost:8080/",
          "height": 617
        },
        "id": "CGdF9G6rT1es",
        "outputId": "c0f14b39-9a8d-4a58-f66c-3edee605bc30"
      },
      "execution_count": null,
      "outputs": [
        {
          "output_type": "execute_result",
          "data": {
            "text/plain": [
              "Age                     0\n",
              "Gender                  0\n",
              "Smoking                 0\n",
              "Hx Smoking              0\n",
              "Hx Radiothreapy         0\n",
              "Thyroid Function        0\n",
              "Physical Examination    0\n",
              "Adenopathy              0\n",
              "Pathology               0\n",
              "Focality                0\n",
              "Risk                    0\n",
              "T                       0\n",
              "N                       0\n",
              "M                       0\n",
              "Stage                   0\n",
              "Response                0\n",
              "Recurred                0\n",
              "dtype: int64"
            ],
            "text/html": [
              "<div>\n",
              "<style scoped>\n",
              "    .dataframe tbody tr th:only-of-type {\n",
              "        vertical-align: middle;\n",
              "    }\n",
              "\n",
              "    .dataframe tbody tr th {\n",
              "        vertical-align: top;\n",
              "    }\n",
              "\n",
              "    .dataframe thead th {\n",
              "        text-align: right;\n",
              "    }\n",
              "</style>\n",
              "<table border=\"1\" class=\"dataframe\">\n",
              "  <thead>\n",
              "    <tr style=\"text-align: right;\">\n",
              "      <th></th>\n",
              "      <th>0</th>\n",
              "    </tr>\n",
              "  </thead>\n",
              "  <tbody>\n",
              "    <tr>\n",
              "      <th>Age</th>\n",
              "      <td>0</td>\n",
              "    </tr>\n",
              "    <tr>\n",
              "      <th>Gender</th>\n",
              "      <td>0</td>\n",
              "    </tr>\n",
              "    <tr>\n",
              "      <th>Smoking</th>\n",
              "      <td>0</td>\n",
              "    </tr>\n",
              "    <tr>\n",
              "      <th>Hx Smoking</th>\n",
              "      <td>0</td>\n",
              "    </tr>\n",
              "    <tr>\n",
              "      <th>Hx Radiothreapy</th>\n",
              "      <td>0</td>\n",
              "    </tr>\n",
              "    <tr>\n",
              "      <th>Thyroid Function</th>\n",
              "      <td>0</td>\n",
              "    </tr>\n",
              "    <tr>\n",
              "      <th>Physical Examination</th>\n",
              "      <td>0</td>\n",
              "    </tr>\n",
              "    <tr>\n",
              "      <th>Adenopathy</th>\n",
              "      <td>0</td>\n",
              "    </tr>\n",
              "    <tr>\n",
              "      <th>Pathology</th>\n",
              "      <td>0</td>\n",
              "    </tr>\n",
              "    <tr>\n",
              "      <th>Focality</th>\n",
              "      <td>0</td>\n",
              "    </tr>\n",
              "    <tr>\n",
              "      <th>Risk</th>\n",
              "      <td>0</td>\n",
              "    </tr>\n",
              "    <tr>\n",
              "      <th>T</th>\n",
              "      <td>0</td>\n",
              "    </tr>\n",
              "    <tr>\n",
              "      <th>N</th>\n",
              "      <td>0</td>\n",
              "    </tr>\n",
              "    <tr>\n",
              "      <th>M</th>\n",
              "      <td>0</td>\n",
              "    </tr>\n",
              "    <tr>\n",
              "      <th>Stage</th>\n",
              "      <td>0</td>\n",
              "    </tr>\n",
              "    <tr>\n",
              "      <th>Response</th>\n",
              "      <td>0</td>\n",
              "    </tr>\n",
              "    <tr>\n",
              "      <th>Recurred</th>\n",
              "      <td>0</td>\n",
              "    </tr>\n",
              "  </tbody>\n",
              "</table>\n",
              "</div><br><label><b>dtype:</b> int64</label>"
            ]
          },
          "metadata": {},
          "execution_count": 17
        }
      ]
    },
    {
      "cell_type": "markdown",
      "source": [
        "#Transformation Data"
      ],
      "metadata": {
        "id": "WT5Wug2liM2n"
      }
    },
    {
      "cell_type": "code",
      "source": [
        "pima.sample(1)"
      ],
      "metadata": {
        "colab": {
          "base_uri": "https://localhost:8080/",
          "height": 153
        },
        "id": "mKW_eYXj2wtx",
        "outputId": "08e517b7-0b03-488a-cf82-c549950dc2c6"
      },
      "execution_count": null,
      "outputs": [
        {
          "output_type": "execute_result",
          "data": {
            "text/plain": [
              "     Age Gender Smoking Hx Smoking Hx Radiothreapy Thyroid Function  \\\n",
              "258   30      F      No         No              No        Euthyroid   \n",
              "\n",
              "            Physical Examination Adenopathy  Pathology     Focality Risk    T  \\\n",
              "258  Single nodular goiter-right         No  Papillary  Multi-Focal  Low  T3a   \n",
              "\n",
              "      N   M Stage                Response Recurred  \n",
              "258  N0  M0     I  Biochemical Incomplete       No  "
            ],
            "text/html": [
              "\n",
              "  <div id=\"df-e13f5bc5-0b4d-4fb7-8710-017d43e527fc\" class=\"colab-df-container\">\n",
              "    <div>\n",
              "<style scoped>\n",
              "    .dataframe tbody tr th:only-of-type {\n",
              "        vertical-align: middle;\n",
              "    }\n",
              "\n",
              "    .dataframe tbody tr th {\n",
              "        vertical-align: top;\n",
              "    }\n",
              "\n",
              "    .dataframe thead th {\n",
              "        text-align: right;\n",
              "    }\n",
              "</style>\n",
              "<table border=\"1\" class=\"dataframe\">\n",
              "  <thead>\n",
              "    <tr style=\"text-align: right;\">\n",
              "      <th></th>\n",
              "      <th>Age</th>\n",
              "      <th>Gender</th>\n",
              "      <th>Smoking</th>\n",
              "      <th>Hx Smoking</th>\n",
              "      <th>Hx Radiothreapy</th>\n",
              "      <th>Thyroid Function</th>\n",
              "      <th>Physical Examination</th>\n",
              "      <th>Adenopathy</th>\n",
              "      <th>Pathology</th>\n",
              "      <th>Focality</th>\n",
              "      <th>Risk</th>\n",
              "      <th>T</th>\n",
              "      <th>N</th>\n",
              "      <th>M</th>\n",
              "      <th>Stage</th>\n",
              "      <th>Response</th>\n",
              "      <th>Recurred</th>\n",
              "    </tr>\n",
              "  </thead>\n",
              "  <tbody>\n",
              "    <tr>\n",
              "      <th>258</th>\n",
              "      <td>30</td>\n",
              "      <td>F</td>\n",
              "      <td>No</td>\n",
              "      <td>No</td>\n",
              "      <td>No</td>\n",
              "      <td>Euthyroid</td>\n",
              "      <td>Single nodular goiter-right</td>\n",
              "      <td>No</td>\n",
              "      <td>Papillary</td>\n",
              "      <td>Multi-Focal</td>\n",
              "      <td>Low</td>\n",
              "      <td>T3a</td>\n",
              "      <td>N0</td>\n",
              "      <td>M0</td>\n",
              "      <td>I</td>\n",
              "      <td>Biochemical Incomplete</td>\n",
              "      <td>No</td>\n",
              "    </tr>\n",
              "  </tbody>\n",
              "</table>\n",
              "</div>\n",
              "    <div class=\"colab-df-buttons\">\n",
              "\n",
              "  <div class=\"colab-df-container\">\n",
              "    <button class=\"colab-df-convert\" onclick=\"convertToInteractive('df-e13f5bc5-0b4d-4fb7-8710-017d43e527fc')\"\n",
              "            title=\"Convert this dataframe to an interactive table.\"\n",
              "            style=\"display:none;\">\n",
              "\n",
              "  <svg xmlns=\"http://www.w3.org/2000/svg\" height=\"24px\" viewBox=\"0 -960 960 960\">\n",
              "    <path d=\"M120-120v-720h720v720H120Zm60-500h600v-160H180v160Zm220 220h160v-160H400v160Zm0 220h160v-160H400v160ZM180-400h160v-160H180v160Zm440 0h160v-160H620v160ZM180-180h160v-160H180v160Zm440 0h160v-160H620v160Z\"/>\n",
              "  </svg>\n",
              "    </button>\n",
              "\n",
              "  <style>\n",
              "    .colab-df-container {\n",
              "      display:flex;\n",
              "      gap: 12px;\n",
              "    }\n",
              "\n",
              "    .colab-df-convert {\n",
              "      background-color: #E8F0FE;\n",
              "      border: none;\n",
              "      border-radius: 50%;\n",
              "      cursor: pointer;\n",
              "      display: none;\n",
              "      fill: #1967D2;\n",
              "      height: 32px;\n",
              "      padding: 0 0 0 0;\n",
              "      width: 32px;\n",
              "    }\n",
              "\n",
              "    .colab-df-convert:hover {\n",
              "      background-color: #E2EBFA;\n",
              "      box-shadow: 0px 1px 2px rgba(60, 64, 67, 0.3), 0px 1px 3px 1px rgba(60, 64, 67, 0.15);\n",
              "      fill: #174EA6;\n",
              "    }\n",
              "\n",
              "    .colab-df-buttons div {\n",
              "      margin-bottom: 4px;\n",
              "    }\n",
              "\n",
              "    [theme=dark] .colab-df-convert {\n",
              "      background-color: #3B4455;\n",
              "      fill: #D2E3FC;\n",
              "    }\n",
              "\n",
              "    [theme=dark] .colab-df-convert:hover {\n",
              "      background-color: #434B5C;\n",
              "      box-shadow: 0px 1px 3px 1px rgba(0, 0, 0, 0.15);\n",
              "      filter: drop-shadow(0px 1px 2px rgba(0, 0, 0, 0.3));\n",
              "      fill: #FFFFFF;\n",
              "    }\n",
              "  </style>\n",
              "\n",
              "    <script>\n",
              "      const buttonEl =\n",
              "        document.querySelector('#df-e13f5bc5-0b4d-4fb7-8710-017d43e527fc button.colab-df-convert');\n",
              "      buttonEl.style.display =\n",
              "        google.colab.kernel.accessAllowed ? 'block' : 'none';\n",
              "\n",
              "      async function convertToInteractive(key) {\n",
              "        const element = document.querySelector('#df-e13f5bc5-0b4d-4fb7-8710-017d43e527fc');\n",
              "        const dataTable =\n",
              "          await google.colab.kernel.invokeFunction('convertToInteractive',\n",
              "                                                    [key], {});\n",
              "        if (!dataTable) return;\n",
              "\n",
              "        const docLinkHtml = 'Like what you see? Visit the ' +\n",
              "          '<a target=\"_blank\" href=https://colab.research.google.com/notebooks/data_table.ipynb>data table notebook</a>'\n",
              "          + ' to learn more about interactive tables.';\n",
              "        element.innerHTML = '';\n",
              "        dataTable['output_type'] = 'display_data';\n",
              "        await google.colab.output.renderOutput(dataTable, element);\n",
              "        const docLink = document.createElement('div');\n",
              "        docLink.innerHTML = docLinkHtml;\n",
              "        element.appendChild(docLink);\n",
              "      }\n",
              "    </script>\n",
              "  </div>\n",
              "\n",
              "\n",
              "    </div>\n",
              "  </div>\n"
            ],
            "application/vnd.google.colaboratory.intrinsic+json": {
              "type": "dataframe",
              "summary": "{\n  \"name\": \"pima\",\n  \"rows\": 1,\n  \"fields\": [\n    {\n      \"column\": \"Age\",\n      \"properties\": {\n        \"dtype\": \"number\",\n        \"std\": null,\n        \"min\": 30,\n        \"max\": 30,\n        \"num_unique_values\": 1,\n        \"samples\": [\n          30\n        ],\n        \"semantic_type\": \"\",\n        \"description\": \"\"\n      }\n    },\n    {\n      \"column\": \"Gender\",\n      \"properties\": {\n        \"dtype\": \"string\",\n        \"num_unique_values\": 1,\n        \"samples\": [\n          \"F\"\n        ],\n        \"semantic_type\": \"\",\n        \"description\": \"\"\n      }\n    },\n    {\n      \"column\": \"Smoking\",\n      \"properties\": {\n        \"dtype\": \"string\",\n        \"num_unique_values\": 1,\n        \"samples\": [\n          \"No\"\n        ],\n        \"semantic_type\": \"\",\n        \"description\": \"\"\n      }\n    },\n    {\n      \"column\": \"Hx Smoking\",\n      \"properties\": {\n        \"dtype\": \"string\",\n        \"num_unique_values\": 1,\n        \"samples\": [\n          \"No\"\n        ],\n        \"semantic_type\": \"\",\n        \"description\": \"\"\n      }\n    },\n    {\n      \"column\": \"Hx Radiothreapy\",\n      \"properties\": {\n        \"dtype\": \"string\",\n        \"num_unique_values\": 1,\n        \"samples\": [\n          \"No\"\n        ],\n        \"semantic_type\": \"\",\n        \"description\": \"\"\n      }\n    },\n    {\n      \"column\": \"Thyroid Function\",\n      \"properties\": {\n        \"dtype\": \"string\",\n        \"num_unique_values\": 1,\n        \"samples\": [\n          \"Euthyroid\"\n        ],\n        \"semantic_type\": \"\",\n        \"description\": \"\"\n      }\n    },\n    {\n      \"column\": \"Physical Examination\",\n      \"properties\": {\n        \"dtype\": \"string\",\n        \"num_unique_values\": 1,\n        \"samples\": [\n          \"Single nodular goiter-right\"\n        ],\n        \"semantic_type\": \"\",\n        \"description\": \"\"\n      }\n    },\n    {\n      \"column\": \"Adenopathy\",\n      \"properties\": {\n        \"dtype\": \"string\",\n        \"num_unique_values\": 1,\n        \"samples\": [\n          \"No\"\n        ],\n        \"semantic_type\": \"\",\n        \"description\": \"\"\n      }\n    },\n    {\n      \"column\": \"Pathology\",\n      \"properties\": {\n        \"dtype\": \"string\",\n        \"num_unique_values\": 1,\n        \"samples\": [\n          \"Papillary\"\n        ],\n        \"semantic_type\": \"\",\n        \"description\": \"\"\n      }\n    },\n    {\n      \"column\": \"Focality\",\n      \"properties\": {\n        \"dtype\": \"string\",\n        \"num_unique_values\": 1,\n        \"samples\": [\n          \"Multi-Focal\"\n        ],\n        \"semantic_type\": \"\",\n        \"description\": \"\"\n      }\n    },\n    {\n      \"column\": \"Risk\",\n      \"properties\": {\n        \"dtype\": \"string\",\n        \"num_unique_values\": 1,\n        \"samples\": [\n          \"Low\"\n        ],\n        \"semantic_type\": \"\",\n        \"description\": \"\"\n      }\n    },\n    {\n      \"column\": \"T\",\n      \"properties\": {\n        \"dtype\": \"string\",\n        \"num_unique_values\": 1,\n        \"samples\": [\n          \"T3a\"\n        ],\n        \"semantic_type\": \"\",\n        \"description\": \"\"\n      }\n    },\n    {\n      \"column\": \"N\",\n      \"properties\": {\n        \"dtype\": \"string\",\n        \"num_unique_values\": 1,\n        \"samples\": [\n          \"N0\"\n        ],\n        \"semantic_type\": \"\",\n        \"description\": \"\"\n      }\n    },\n    {\n      \"column\": \"M\",\n      \"properties\": {\n        \"dtype\": \"string\",\n        \"num_unique_values\": 1,\n        \"samples\": [\n          \"M0\"\n        ],\n        \"semantic_type\": \"\",\n        \"description\": \"\"\n      }\n    },\n    {\n      \"column\": \"Stage\",\n      \"properties\": {\n        \"dtype\": \"string\",\n        \"num_unique_values\": 1,\n        \"samples\": [\n          \"I\"\n        ],\n        \"semantic_type\": \"\",\n        \"description\": \"\"\n      }\n    },\n    {\n      \"column\": \"Response\",\n      \"properties\": {\n        \"dtype\": \"string\",\n        \"num_unique_values\": 1,\n        \"samples\": [\n          \"Biochemical Incomplete\"\n        ],\n        \"semantic_type\": \"\",\n        \"description\": \"\"\n      }\n    },\n    {\n      \"column\": \"Recurred\",\n      \"properties\": {\n        \"dtype\": \"string\",\n        \"num_unique_values\": 1,\n        \"samples\": [\n          \"No\"\n        ],\n        \"semantic_type\": \"\",\n        \"description\": \"\"\n      }\n    }\n  ]\n}"
            }
          },
          "metadata": {},
          "execution_count": 45
        }
      ]
    },
    {
      "cell_type": "code",
      "source": [
        "print (pima['Gender'].unique())\n",
        "pima['Gender'] = pima['Gender'].map({'M': 1 ,'F': 0})\n",
        "print (pima['Gender'].unique())"
      ],
      "metadata": {
        "colab": {
          "base_uri": "https://localhost:8080/"
        },
        "id": "kY_sA9E34Bmi",
        "outputId": "14d74d11-8c6c-47a5-d59a-865436efd4ac"
      },
      "execution_count": null,
      "outputs": [
        {
          "output_type": "stream",
          "name": "stdout",
          "text": [
            "['F' 'M']\n",
            "[0 1]\n"
          ]
        }
      ]
    },
    {
      "cell_type": "code",
      "source": [
        "print (pima['Smoking'].unique())\n",
        "pima['Smoking'] = pima['Smoking'].map({\"Yes\": 1 ,\"No\": 0})\n",
        "print (pima['Smoking'].unique())"
      ],
      "metadata": {
        "colab": {
          "base_uri": "https://localhost:8080/"
        },
        "id": "Ri1mco555NJp",
        "outputId": "5909ae5b-7e31-4a5a-8839-4922015409f6"
      },
      "execution_count": null,
      "outputs": [
        {
          "output_type": "stream",
          "name": "stdout",
          "text": [
            "['No' 'Yes']\n",
            "[0 1]\n"
          ]
        }
      ]
    },
    {
      "cell_type": "code",
      "source": [
        "print (pima['Hx Smoking'].unique())\n",
        "pima['Hx Smoking'] = pima['Hx Smoking'].map({\"Yes\": 1 ,\"No\": 0})\n",
        "print (pima['Hx Smoking'].unique())"
      ],
      "metadata": {
        "colab": {
          "base_uri": "https://localhost:8080/"
        },
        "id": "r9edUmhN5cZJ",
        "outputId": "3469c092-92fa-4453-c795-5a4c619fb62c"
      },
      "execution_count": null,
      "outputs": [
        {
          "output_type": "stream",
          "name": "stdout",
          "text": [
            "['No' 'Yes']\n",
            "[0 1]\n"
          ]
        }
      ]
    },
    {
      "cell_type": "code",
      "source": [
        "print (pima['Hx Radiothreapy'].unique())\n",
        "pima['Hx Radiothreapy'] = pima['Hx Radiothreapy'].map({\"Yes\": 1 ,\"No\": 0})\n",
        "print (pima['Hx Radiothreapy'].unique())"
      ],
      "metadata": {
        "colab": {
          "base_uri": "https://localhost:8080/"
        },
        "id": "sleByjDo55nC",
        "outputId": "8091f281-6ceb-4635-e23d-06ac43cf2551"
      },
      "execution_count": null,
      "outputs": [
        {
          "output_type": "stream",
          "name": "stdout",
          "text": [
            "['No' 'Yes']\n",
            "[0 1]\n"
          ]
        }
      ]
    },
    {
      "cell_type": "code",
      "source": [
        "print (pima['Thyroid Function'].unique())\n",
        "pima = pd.get_dummies(pima, columns=['Thyroid Function'], drop_first=False)\n",
        "\n",
        "print (pima['Thyroid Function_Clinical Hyperthyroidism'].unique())\n",
        "print (pima['Thyroid Function_Clinical Hypothyroidism'].unique())\n",
        "print (pima['Thyroid Function_Euthyroid'].unique())\n",
        "print (pima['Thyroid Function_Subclinical Hyperthyroidism'].unique())\n",
        "print (pima['Thyroid Function_Subclinical Hypothyroidism'].unique())\n",
        "\n",
        "pima['Thyroid Function_Clinical Hyperthyroidism'] = pima['Thyroid Function_Clinical Hyperthyroidism'].map({True: 1 ,False: 0})\n",
        "pima['Thyroid Function_Clinical Hypothyroidism'] = pima['Thyroid Function_Clinical Hypothyroidism'].map({True: 1 ,False: 0})\n",
        "pima['Thyroid Function_Euthyroid'] = pima['Thyroid Function_Euthyroid'].map({True: 1 ,False: 0})\n",
        "pima['Thyroid Function_Subclinical Hyperthyroidism'] = pima['Thyroid Function_Subclinical Hyperthyroidism'].map({True: 1 ,False: 0})\n",
        "pima['Thyroid Function_Subclinical Hypothyroidism'] = pima['Thyroid Function_Subclinical Hypothyroidism'].map({True: 1 ,False: 0})\n",
        "\n",
        "print (pima['Thyroid Function_Clinical Hyperthyroidism'].unique())\n",
        "print (pima['Thyroid Function_Clinical Hypothyroidism'].unique())\n",
        "print (pima['Thyroid Function_Euthyroid'].unique())\n",
        "print (pima['Thyroid Function_Subclinical Hyperthyroidism'].unique())\n",
        "print (pima['Thyroid Function_Subclinical Hypothyroidism'].unique())"
      ],
      "metadata": {
        "colab": {
          "base_uri": "https://localhost:8080/"
        },
        "id": "LfLj8hCW6BAR",
        "outputId": "63621703-3c14-4e06-8b2b-d6963f398f33"
      },
      "execution_count": null,
      "outputs": [
        {
          "output_type": "stream",
          "name": "stdout",
          "text": [
            "['Euthyroid' 'Clinical Hyperthyroidism' 'Clinical Hypothyroidism'\n",
            " 'Subclinical Hyperthyroidism' 'Subclinical Hypothyroidism']\n",
            "[False  True]\n",
            "[False  True]\n",
            "[ True False]\n",
            "[False  True]\n",
            "[False  True]\n",
            "[0 1]\n",
            "[0 1]\n",
            "[1 0]\n",
            "[0 1]\n",
            "[0 1]\n"
          ]
        }
      ]
    },
    {
      "cell_type": "code",
      "source": [
        "print (pima['Physical Examination'].unique())\n",
        "\n",
        "pima = pd.get_dummies(pima, columns=['Physical Examination'], drop_first=False)\n",
        "\n",
        "print (pima['Physical Examination_Diffuse goiter'].unique())\n",
        "print (pima['Physical Examination_Multinodular goiter'].unique())\n",
        "print (pima['Physical Examination_Normal'].unique())\n",
        "print (pima['Physical Examination_Single nodular goiter-left'].unique())\n",
        "print (pima['Physical Examination_Single nodular goiter-right'].unique())\n",
        "\n",
        "pima['Physical Examination_Diffuse goiter'] = pima['Physical Examination_Diffuse goiter'].map({True: 1 ,False: 0})\n",
        "pima['Physical Examination_Multinodular goiter'] = pima['Physical Examination_Multinodular goiter'].map({True: 1 ,False: 0})\n",
        "pima['Physical Examination_Normal'] = pima['Physical Examination_Normal'].map({True: 1 ,False: 0})\n",
        "pima['Physical Examination_Single nodular goiter-left'] = pima['Physical Examination_Single nodular goiter-left'].map({True: 1 ,False: 0})\n",
        "pima['Physical Examination_Single nodular goiter-right'] = pima['Physical Examination_Single nodular goiter-right'].map({True: 1 ,False: 0})\n",
        "\n",
        "print (pima['Physical Examination_Diffuse goiter'].unique())\n",
        "print (pima['Physical Examination_Multinodular goiter'].unique())\n",
        "print (pima['Physical Examination_Normal'].unique())\n",
        "print (pima['Physical Examination_Single nodular goiter-left'].unique())\n",
        "print (pima['Physical Examination_Single nodular goiter-right'].unique())"
      ],
      "metadata": {
        "colab": {
          "base_uri": "https://localhost:8080/"
        },
        "id": "WQ5_SB7J8RLB",
        "outputId": "17f6b5eb-eb0f-4dd2-a871-e9f966a247fe"
      },
      "execution_count": null,
      "outputs": [
        {
          "output_type": "stream",
          "name": "stdout",
          "text": [
            "['Single nodular goiter-left' 'Multinodular goiter'\n",
            " 'Single nodular goiter-right' 'Normal' 'Diffuse goiter']\n",
            "[False  True]\n",
            "[False  True]\n",
            "[False  True]\n",
            "[ True False]\n",
            "[False  True]\n",
            "[0 1]\n",
            "[0 1]\n",
            "[0 1]\n",
            "[1 0]\n",
            "[0 1]\n"
          ]
        }
      ]
    },
    {
      "cell_type": "code",
      "source": [
        "print (pima['Adenopathy'].unique())\n",
        "\n",
        "pima = pd.get_dummies(pima, columns=['Adenopathy'], drop_first=False)\n",
        "\n",
        "print (pima['Adenopathy_Bilateral'].unique())\n",
        "print (pima['Adenopathy_Left'].unique())\n",
        "print (pima['Adenopathy_Right'].unique())\n",
        "print (pima['Adenopathy_Extensive'].unique())\n",
        "print (pima['Adenopathy_No'].unique())\n",
        "print (pima['Adenopathy_Posterior'].unique())\n",
        "\n",
        "pima['Adenopathy_Bilateral'] = pima['Adenopathy_Bilateral'].map({True: 1 ,False: 0})\n",
        "pima['Adenopathy_Left'] = pima['Adenopathy_Left'].map({True: 1 ,False: 0})\n",
        "pima['Adenopathy_Right'] = pima['Adenopathy_Right'].map({True: 1 ,False: 0})\n",
        "pima['Adenopathy_Extensive'] = pima['Adenopathy_Extensive'].map({True: 1 ,False: 0})\n",
        "pima['Adenopathy_No'] = pima['Adenopathy_No'].map({True: 1 ,False: 0})\n",
        "pima['Adenopathy_Posterior'] = pima['Adenopathy_Posterior'].map({True: 1 ,False: 0})\n",
        "\n",
        "print (pima['Adenopathy_Bilateral'].unique())\n",
        "print (pima['Adenopathy_Left'].unique())\n",
        "print (pima['Adenopathy_Right'].unique())\n",
        "print (pima['Adenopathy_Extensive'].unique())\n",
        "print (pima['Adenopathy_No'].unique())\n",
        "print (pima['Adenopathy_Posterior'].unique())"
      ],
      "metadata": {
        "colab": {
          "base_uri": "https://localhost:8080/"
        },
        "id": "e_b8RTmk9E6S",
        "outputId": "f92d3523-1c59-469e-c034-6f9a3ecf26ad"
      },
      "execution_count": null,
      "outputs": [
        {
          "output_type": "stream",
          "name": "stdout",
          "text": [
            "['No' 'Right' 'Extensive' 'Left' 'Bilateral' 'Posterior']\n",
            "[False  True]\n",
            "[False  True]\n",
            "[False  True]\n",
            "[False  True]\n",
            "[ True False]\n",
            "[False  True]\n",
            "[0 1]\n",
            "[0 1]\n",
            "[0 1]\n",
            "[0 1]\n",
            "[1 0]\n",
            "[0 1]\n"
          ]
        }
      ]
    },
    {
      "cell_type": "code",
      "source": [
        "print (pima['Pathology'].unique())\n",
        "\n",
        "pima = pd.get_dummies(pima, columns=['Pathology'], drop_first=False)\n",
        "\n",
        "print (pima['Pathology_Follicular'].unique())\n",
        "print (pima['Pathology_Hurthel cell'].unique())\n",
        "print (pima['Pathology_Micropapillary'].unique())\n",
        "print (pima['Pathology_Papillary'].unique())\n",
        "\n",
        "pima['Pathology_Follicular'] = pima['Pathology_Follicular'].map({True: 1 ,False: 0})\n",
        "pima['Pathology_Hurthel cell'] = pima['Pathology_Hurthel cell'].map({True: 1 ,False: 0})\n",
        "pima['Pathology_Micropapillary'] = pima['Pathology_Micropapillary'].map({True: 1 ,False: 0})\n",
        "pima['Pathology_Papillary'] = pima['Pathology_Papillary'].map({True: 1 ,False: 0})\n",
        "\n",
        "print (pima['Pathology_Follicular'].unique())\n",
        "print (pima['Pathology_Hurthel cell'].unique())\n",
        "print (pima['Pathology_Micropapillary'].unique())\n",
        "print (pima['Pathology_Papillary'].unique())\n"
      ],
      "metadata": {
        "colab": {
          "base_uri": "https://localhost:8080/"
        },
        "id": "ZZ--btJC-ELa",
        "outputId": "8441fcbe-4457-415e-dd1c-09c4fc4bf10f"
      },
      "execution_count": null,
      "outputs": [
        {
          "output_type": "stream",
          "name": "stdout",
          "text": [
            "['Micropapillary' 'Papillary' 'Follicular' 'Hurthel cell']\n",
            "[False  True]\n",
            "[False  True]\n",
            "[ True False]\n",
            "[False  True]\n",
            "[0 1]\n",
            "[0 1]\n",
            "[1 0]\n",
            "[0 1]\n"
          ]
        }
      ]
    },
    {
      "cell_type": "code",
      "source": [
        "print (pima['Focality'].unique())\n",
        "\n",
        "pima = pd.get_dummies(pima, columns=['Focality'], drop_first=False)\n",
        "\n",
        "print (pima['Focality_Multi-Focal'].unique())\n",
        "print (pima['Focality_Uni-Focal'].unique())\n",
        "\n",
        "pima['Focality_Multi-Focal'] = pima['Focality_Multi-Focal'].map({True: 1 ,False: 0})\n",
        "pima['Focality_Uni-Focal'] = pima['Focality_Uni-Focal'].map({True: 1 ,False: 0})\n",
        "\n",
        "print (pima['Focality_Multi-Focal'].unique())\n",
        "print (pima['Focality_Uni-Focal'].unique())"
      ],
      "metadata": {
        "colab": {
          "base_uri": "https://localhost:8080/"
        },
        "id": "A0SGYUis-4pp",
        "outputId": "c367e6a1-ec43-4305-e009-cc49ce730e7a"
      },
      "execution_count": null,
      "outputs": [
        {
          "output_type": "stream",
          "name": "stdout",
          "text": [
            "['Uni-Focal' 'Multi-Focal']\n",
            "[False  True]\n",
            "[ True False]\n",
            "[0 1]\n",
            "[1 0]\n"
          ]
        }
      ]
    },
    {
      "cell_type": "code",
      "source": [
        "print (pima['Risk'].unique())\n",
        "\n",
        "pima = pd.get_dummies(pima, columns=['Risk'], drop_first=False)\n",
        "\n",
        "print (pima['Risk_High'].unique())\n",
        "print (pima['Risk_Intermediate'].unique())\n",
        "print (pima['Risk_Low'].unique())\n",
        "\n",
        "pima['Risk_High'] = pima['Risk_High'].map({True: 1 ,False: 0})\n",
        "pima['Risk_Intermediate'] = pima['Risk_Intermediate'].map({True: 1 ,False: 0})\n",
        "pima['Risk_Low'] = pima['Risk_Low'].map({True: 1 ,False: 0})\n",
        "\n",
        "print (pima['Risk_High'].unique())\n",
        "print (pima['Risk_Intermediate'].unique())\n",
        "print (pima['Risk_Low'].unique())"
      ],
      "metadata": {
        "colab": {
          "base_uri": "https://localhost:8080/"
        },
        "id": "yZK3_Hrc_gDT",
        "outputId": "bb0c0093-5b45-48a9-a1d1-2355739eb888"
      },
      "execution_count": null,
      "outputs": [
        {
          "output_type": "stream",
          "name": "stdout",
          "text": [
            "['Low' 'Intermediate' 'High']\n",
            "[False  True]\n",
            "[False  True]\n",
            "[ True False]\n",
            "[0 1]\n",
            "[0 1]\n",
            "[1 0]\n"
          ]
        }
      ]
    },
    {
      "cell_type": "code",
      "source": [
        "print (pima['T'].unique())\n",
        "\n",
        "pima = pd.get_dummies(pima, columns=['T'], drop_first=False)\n",
        "\n",
        "print (pima['T_T1a'].unique())\n",
        "print (pima['T_T1b'].unique())\n",
        "print (pima['T_T2'].unique())\n",
        "print (pima['T_T3a'].unique())\n",
        "print (pima['T_T3b'].unique())\n",
        "print (pima['T_T4a'].unique())\n",
        "print (pima['T_T4b'].unique())\n",
        "\n",
        "pima['T_T1a'] = pima['T_T1a'].map({True: 1 ,False: 0})\n",
        "pima['T_T1b'] = pima['T_T1b'].map({True: 1 ,False: 0})\n",
        "pima['T_T2'] = pima['T_T2'].map({True: 1 ,False: 0})\n",
        "pima['T_T3a'] = pima['T_T3a'].map({True: 1 ,False: 0})\n",
        "pima['T_T3b'] = pima['T_T3b'].map({True: 1 ,False: 0})\n",
        "pima['T_T4a'] = pima['T_T4a'].map({True: 1 ,False: 0})\n",
        "pima['T_T4b'] = pima['T_T4b'].map({True: 1 ,False: 0})\n",
        "\n",
        "print (pima['T_T1a'].unique())\n",
        "print (pima['T_T1b'].unique())\n",
        "print (pima['T_T2'].unique())\n",
        "print (pima['T_T3a'].unique())\n",
        "print (pima['T_T3b'].unique())\n",
        "print (pima['T_T4a'].unique())\n",
        "print (pima['T_T4b'].unique())"
      ],
      "metadata": {
        "colab": {
          "base_uri": "https://localhost:8080/"
        },
        "id": "KMHP6fK5AFO7",
        "outputId": "f7176ab5-b75e-4462-81d1-46c5d8cfc708"
      },
      "execution_count": null,
      "outputs": [
        {
          "output_type": "stream",
          "name": "stdout",
          "text": [
            "['T1a' 'T1b' 'T2' 'T3a' 'T3b' 'T4a' 'T4b']\n",
            "[ True False]\n",
            "[False  True]\n",
            "[False  True]\n",
            "[False  True]\n",
            "[False  True]\n",
            "[False  True]\n",
            "[False  True]\n",
            "[1 0]\n",
            "[0 1]\n",
            "[0 1]\n",
            "[0 1]\n",
            "[0 1]\n",
            "[0 1]\n",
            "[0 1]\n"
          ]
        }
      ]
    },
    {
      "cell_type": "code",
      "source": [
        "print (pima['N'].unique())\n",
        "\n",
        "pima = pd.get_dummies(pima, columns=['N'], drop_first=False)\n",
        "\n",
        "print (pima['N_N0'].unique())\n",
        "print (pima['N_N1b'].unique())\n",
        "print (pima['N_N1a'].unique())\n",
        "\n",
        "pima['N_N0'] = pima['N_N0'].map({True: 1 ,False: 0})\n",
        "pima['N_N1b'] = pima['N_N1b'].map({True: 1 ,False: 0})\n",
        "pima['N_N1a'] = pima['N_N1a'].map({True: 1 ,False: 0})\n",
        "\n",
        "\n",
        "print (pima['N_N0'].unique())\n",
        "print (pima['N_N1b'].unique())\n",
        "print (pima['N_N1a'].unique())"
      ],
      "metadata": {
        "colab": {
          "base_uri": "https://localhost:8080/"
        },
        "id": "86ARL6EgA3CL",
        "outputId": "776cabe3-cb6c-4823-f4e3-c39293edd284"
      },
      "execution_count": null,
      "outputs": [
        {
          "output_type": "stream",
          "name": "stdout",
          "text": [
            "['N0' 'N1b' 'N1a']\n",
            "[ True False]\n",
            "[False  True]\n",
            "[False  True]\n",
            "[1 0]\n",
            "[0 1]\n",
            "[0 1]\n"
          ]
        }
      ]
    },
    {
      "cell_type": "code",
      "source": [
        "print (pima['M'].unique())\n",
        "\n",
        "pima = pd.get_dummies(pima, columns=['M'], drop_first=False)\n",
        "\n",
        "print (pima['M_M0'].unique())\n",
        "print (pima['M_M1'].unique())\n",
        "\n",
        "pima['M_M0'] = pima['M_M0'].map({True: 1 ,False: 0})\n",
        "pima['M_M1'] = pima['M_M1'].map({True: 1 ,False: 0})\n",
        "\n",
        "print (pima['M_M0'].unique())\n",
        "print (pima['M_M1'].unique())"
      ],
      "metadata": {
        "colab": {
          "base_uri": "https://localhost:8080/"
        },
        "id": "tHWD_fQJBO4z",
        "outputId": "341faeca-a25a-4835-c976-809b5c03215a"
      },
      "execution_count": null,
      "outputs": [
        {
          "output_type": "stream",
          "name": "stdout",
          "text": [
            "['M0' 'M1']\n",
            "[ True False]\n",
            "[False  True]\n",
            "[1 0]\n",
            "[0 1]\n"
          ]
        }
      ]
    },
    {
      "cell_type": "code",
      "source": [
        "print (pima['Stage'].unique())\n",
        "\n",
        "pima = pd.get_dummies(pima, columns=['Stage'], drop_first=False)\n",
        "\n",
        "print (pima['Stage_I'].unique())\n",
        "print (pima['Stage_II'].unique())\n",
        "print (pima['Stage_III'].unique())\n",
        "print (pima['Stage_IVA'].unique())\n",
        "print (pima['Stage_IVB'].unique())\n",
        "\n",
        "pima['Stage_I'] = pima['Stage_I'].map({True: 1 ,False: 0})\n",
        "pima['Stage_II'] = pima['Stage_II'].map({True: 1 ,False: 0})\n",
        "pima['Stage_III'] = pima['Stage_III'].map({True: 1 ,False: 0})\n",
        "pima['Stage_IVA'] = pima['Stage_IVA'].map({True: 1 ,False: 0})\n",
        "pima['Stage_IVB'] = pima['Stage_IVB'].map({True: 1 ,False: 0})\n",
        "\n",
        "print (pima['Stage_I'].unique())\n",
        "print (pima['Stage_II'].unique())\n",
        "print (pima['Stage_III'].unique())\n",
        "print (pima['Stage_IVA'].unique())\n",
        "print (pima['Stage_IVB'].unique())"
      ],
      "metadata": {
        "colab": {
          "base_uri": "https://localhost:8080/"
        },
        "id": "bhQWpxQMBpTT",
        "outputId": "192ed326-a7ef-4cf9-8468-1ff217e7b002"
      },
      "execution_count": null,
      "outputs": [
        {
          "output_type": "stream",
          "name": "stdout",
          "text": [
            "['I' 'II' 'IVB' 'III' 'IVA']\n",
            "[ True False]\n",
            "[False  True]\n",
            "[False  True]\n",
            "[False  True]\n",
            "[False  True]\n",
            "[1 0]\n",
            "[0 1]\n",
            "[0 1]\n",
            "[0 1]\n",
            "[0 1]\n"
          ]
        }
      ]
    },
    {
      "cell_type": "code",
      "source": [
        "print (pima['Response'].unique())\n",
        "\n",
        "pima = pd.get_dummies(pima, columns=['Response'], drop_first=False)\n",
        "\n",
        "print (pima['Response_Indeterminate'].unique())\n",
        "print (pima['Response_Excellent'].unique())\n",
        "print (pima['Response_Structural Incomplete'].unique())\n",
        "print (pima['Response_Biochemical Incomplete'].unique())\n",
        "\n",
        "pima['Response_Indeterminate'] = pima['Response_Indeterminate'].map({True: 1 ,False: 0})\n",
        "pima['Response_Excellent'] = pima['Response_Excellent'].map({True: 1 ,False: 0})\n",
        "pima['Response_Structural Incomplete'] = pima['Response_Structural Incomplete'].map({True: 1 ,False: 0})\n",
        "pima['Response_Biochemical Incomplete'] = pima['Response_Biochemical Incomplete'].map({True: 1 ,False: 0})\n",
        "\n",
        "print (pima['Response_Indeterminate'].unique())\n",
        "print (pima['Response_Excellent'].unique())\n",
        "print (pima['Response_Structural Incomplete'].unique())\n",
        "print (pima['Response_Biochemical Incomplete'].unique())"
      ],
      "metadata": {
        "colab": {
          "base_uri": "https://localhost:8080/"
        },
        "id": "bR5FGhp2F2ks",
        "outputId": "d3ca9c9d-6d97-4d40-d22a-b969eb6e2f86"
      },
      "execution_count": null,
      "outputs": [
        {
          "output_type": "stream",
          "name": "stdout",
          "text": [
            "['Indeterminate' 'Excellent' 'Structural Incomplete'\n",
            " 'Biochemical Incomplete']\n",
            "[ True False]\n",
            "[False  True]\n",
            "[False  True]\n",
            "[False  True]\n",
            "[1 0]\n",
            "[0 1]\n",
            "[0 1]\n",
            "[0 1]\n"
          ]
        }
      ]
    },
    {
      "cell_type": "code",
      "source": [
        "print (pima['Recurred'].unique())"
      ],
      "metadata": {
        "colab": {
          "base_uri": "https://localhost:8080/"
        },
        "id": "C6hGrjaUXtTy",
        "outputId": "51d3ffe6-1950-4656-9cce-f5d7f66b1d31"
      },
      "execution_count": null,
      "outputs": [
        {
          "output_type": "stream",
          "name": "stdout",
          "text": [
            "['No' 'Yes']\n"
          ]
        }
      ]
    },
    {
      "cell_type": "code",
      "source": [
        "print (pima['Recurred'].unique())\n",
        "pima['Recurred'] = pima['Recurred'].map({\"Yes\": 1 ,\"No\": 0})\n",
        "print (pima['Recurred'].unique())"
      ],
      "metadata": {
        "colab": {
          "base_uri": "https://localhost:8080/"
        },
        "id": "R9b-8KIRXykw",
        "outputId": "2152679d-1698-40d6-e6de-239341c85d83"
      },
      "execution_count": null,
      "outputs": [
        {
          "output_type": "stream",
          "name": "stdout",
          "text": [
            "['No' 'Yes']\n",
            "[0 1]\n"
          ]
        }
      ]
    },
    {
      "cell_type": "code",
      "source": [
        "pima"
      ],
      "metadata": {
        "colab": {
          "base_uri": "https://localhost:8080/",
          "height": 704
        },
        "id": "dDJooPkfGwQU",
        "outputId": "43278627-4df6-4945-8c8b-e9c7ac4befb9"
      },
      "execution_count": null,
      "outputs": [
        {
          "output_type": "execute_result",
          "data": {
            "text/plain": [
              "     Age Gender Smoking Hx Smoking Hx Radiothreapy          Thyroid Function  \\\n",
              "0     27      F      No         No              No                 Euthyroid   \n",
              "1     34      F      No        Yes              No                 Euthyroid   \n",
              "2     30      F      No         No              No                 Euthyroid   \n",
              "3     62      F      No         No              No                 Euthyroid   \n",
              "4     62      F      No         No              No                 Euthyroid   \n",
              "..   ...    ...     ...        ...             ...                       ...   \n",
              "378   72      M     Yes        Yes             Yes                 Euthyroid   \n",
              "379   81      M     Yes         No             Yes                 Euthyroid   \n",
              "380   72      M     Yes        Yes              No                 Euthyroid   \n",
              "381   61      M     Yes        Yes             Yes  Clinical Hyperthyroidism   \n",
              "382   67      M     Yes         No              No                 Euthyroid   \n",
              "\n",
              "            Physical Examination Adenopathy       Pathology     Focality  \\\n",
              "0     Single nodular goiter-left         No  Micropapillary    Uni-Focal   \n",
              "1            Multinodular goiter         No  Micropapillary    Uni-Focal   \n",
              "2    Single nodular goiter-right         No  Micropapillary    Uni-Focal   \n",
              "3    Single nodular goiter-right         No  Micropapillary    Uni-Focal   \n",
              "4            Multinodular goiter         No  Micropapillary  Multi-Focal   \n",
              "..                           ...        ...             ...          ...   \n",
              "378  Single nodular goiter-right      Right       Papillary    Uni-Focal   \n",
              "379          Multinodular goiter  Extensive       Papillary  Multi-Focal   \n",
              "380          Multinodular goiter  Bilateral       Papillary  Multi-Focal   \n",
              "381          Multinodular goiter  Extensive    Hurthel cell  Multi-Focal   \n",
              "382          Multinodular goiter  Bilateral       Papillary  Multi-Focal   \n",
              "\n",
              "     Risk    T    N   M Stage                Response Recurred  \n",
              "0     Low  T1a   N0  M0     I           Indeterminate       No  \n",
              "1     Low  T1a   N0  M0     I               Excellent       No  \n",
              "2     Low  T1a   N0  M0     I               Excellent       No  \n",
              "3     Low  T1a   N0  M0     I               Excellent       No  \n",
              "4     Low  T1a   N0  M0     I               Excellent       No  \n",
              "..    ...  ...  ...  ..   ...                     ...      ...  \n",
              "378  High  T4b  N1b  M1   IVB  Biochemical Incomplete      Yes  \n",
              "379  High  T4b  N1b  M1   IVB   Structural Incomplete      Yes  \n",
              "380  High  T4b  N1b  M1   IVB   Structural Incomplete      Yes  \n",
              "381  High  T4b  N1b  M0   IVA   Structural Incomplete      Yes  \n",
              "382  High  T4b  N1b  M0   IVA   Structural Incomplete      Yes  \n",
              "\n",
              "[383 rows x 17 columns]"
            ],
            "text/html": [
              "\n",
              "  <div id=\"df-9cea3b5e-bdd9-46cc-a277-df6e17113aa0\" class=\"colab-df-container\">\n",
              "    <div>\n",
              "<style scoped>\n",
              "    .dataframe tbody tr th:only-of-type {\n",
              "        vertical-align: middle;\n",
              "    }\n",
              "\n",
              "    .dataframe tbody tr th {\n",
              "        vertical-align: top;\n",
              "    }\n",
              "\n",
              "    .dataframe thead th {\n",
              "        text-align: right;\n",
              "    }\n",
              "</style>\n",
              "<table border=\"1\" class=\"dataframe\">\n",
              "  <thead>\n",
              "    <tr style=\"text-align: right;\">\n",
              "      <th></th>\n",
              "      <th>Age</th>\n",
              "      <th>Gender</th>\n",
              "      <th>Smoking</th>\n",
              "      <th>Hx Smoking</th>\n",
              "      <th>Hx Radiothreapy</th>\n",
              "      <th>Thyroid Function</th>\n",
              "      <th>Physical Examination</th>\n",
              "      <th>Adenopathy</th>\n",
              "      <th>Pathology</th>\n",
              "      <th>Focality</th>\n",
              "      <th>Risk</th>\n",
              "      <th>T</th>\n",
              "      <th>N</th>\n",
              "      <th>M</th>\n",
              "      <th>Stage</th>\n",
              "      <th>Response</th>\n",
              "      <th>Recurred</th>\n",
              "    </tr>\n",
              "  </thead>\n",
              "  <tbody>\n",
              "    <tr>\n",
              "      <th>0</th>\n",
              "      <td>27</td>\n",
              "      <td>F</td>\n",
              "      <td>No</td>\n",
              "      <td>No</td>\n",
              "      <td>No</td>\n",
              "      <td>Euthyroid</td>\n",
              "      <td>Single nodular goiter-left</td>\n",
              "      <td>No</td>\n",
              "      <td>Micropapillary</td>\n",
              "      <td>Uni-Focal</td>\n",
              "      <td>Low</td>\n",
              "      <td>T1a</td>\n",
              "      <td>N0</td>\n",
              "      <td>M0</td>\n",
              "      <td>I</td>\n",
              "      <td>Indeterminate</td>\n",
              "      <td>No</td>\n",
              "    </tr>\n",
              "    <tr>\n",
              "      <th>1</th>\n",
              "      <td>34</td>\n",
              "      <td>F</td>\n",
              "      <td>No</td>\n",
              "      <td>Yes</td>\n",
              "      <td>No</td>\n",
              "      <td>Euthyroid</td>\n",
              "      <td>Multinodular goiter</td>\n",
              "      <td>No</td>\n",
              "      <td>Micropapillary</td>\n",
              "      <td>Uni-Focal</td>\n",
              "      <td>Low</td>\n",
              "      <td>T1a</td>\n",
              "      <td>N0</td>\n",
              "      <td>M0</td>\n",
              "      <td>I</td>\n",
              "      <td>Excellent</td>\n",
              "      <td>No</td>\n",
              "    </tr>\n",
              "    <tr>\n",
              "      <th>2</th>\n",
              "      <td>30</td>\n",
              "      <td>F</td>\n",
              "      <td>No</td>\n",
              "      <td>No</td>\n",
              "      <td>No</td>\n",
              "      <td>Euthyroid</td>\n",
              "      <td>Single nodular goiter-right</td>\n",
              "      <td>No</td>\n",
              "      <td>Micropapillary</td>\n",
              "      <td>Uni-Focal</td>\n",
              "      <td>Low</td>\n",
              "      <td>T1a</td>\n",
              "      <td>N0</td>\n",
              "      <td>M0</td>\n",
              "      <td>I</td>\n",
              "      <td>Excellent</td>\n",
              "      <td>No</td>\n",
              "    </tr>\n",
              "    <tr>\n",
              "      <th>3</th>\n",
              "      <td>62</td>\n",
              "      <td>F</td>\n",
              "      <td>No</td>\n",
              "      <td>No</td>\n",
              "      <td>No</td>\n",
              "      <td>Euthyroid</td>\n",
              "      <td>Single nodular goiter-right</td>\n",
              "      <td>No</td>\n",
              "      <td>Micropapillary</td>\n",
              "      <td>Uni-Focal</td>\n",
              "      <td>Low</td>\n",
              "      <td>T1a</td>\n",
              "      <td>N0</td>\n",
              "      <td>M0</td>\n",
              "      <td>I</td>\n",
              "      <td>Excellent</td>\n",
              "      <td>No</td>\n",
              "    </tr>\n",
              "    <tr>\n",
              "      <th>4</th>\n",
              "      <td>62</td>\n",
              "      <td>F</td>\n",
              "      <td>No</td>\n",
              "      <td>No</td>\n",
              "      <td>No</td>\n",
              "      <td>Euthyroid</td>\n",
              "      <td>Multinodular goiter</td>\n",
              "      <td>No</td>\n",
              "      <td>Micropapillary</td>\n",
              "      <td>Multi-Focal</td>\n",
              "      <td>Low</td>\n",
              "      <td>T1a</td>\n",
              "      <td>N0</td>\n",
              "      <td>M0</td>\n",
              "      <td>I</td>\n",
              "      <td>Excellent</td>\n",
              "      <td>No</td>\n",
              "    </tr>\n",
              "    <tr>\n",
              "      <th>...</th>\n",
              "      <td>...</td>\n",
              "      <td>...</td>\n",
              "      <td>...</td>\n",
              "      <td>...</td>\n",
              "      <td>...</td>\n",
              "      <td>...</td>\n",
              "      <td>...</td>\n",
              "      <td>...</td>\n",
              "      <td>...</td>\n",
              "      <td>...</td>\n",
              "      <td>...</td>\n",
              "      <td>...</td>\n",
              "      <td>...</td>\n",
              "      <td>...</td>\n",
              "      <td>...</td>\n",
              "      <td>...</td>\n",
              "      <td>...</td>\n",
              "    </tr>\n",
              "    <tr>\n",
              "      <th>378</th>\n",
              "      <td>72</td>\n",
              "      <td>M</td>\n",
              "      <td>Yes</td>\n",
              "      <td>Yes</td>\n",
              "      <td>Yes</td>\n",
              "      <td>Euthyroid</td>\n",
              "      <td>Single nodular goiter-right</td>\n",
              "      <td>Right</td>\n",
              "      <td>Papillary</td>\n",
              "      <td>Uni-Focal</td>\n",
              "      <td>High</td>\n",
              "      <td>T4b</td>\n",
              "      <td>N1b</td>\n",
              "      <td>M1</td>\n",
              "      <td>IVB</td>\n",
              "      <td>Biochemical Incomplete</td>\n",
              "      <td>Yes</td>\n",
              "    </tr>\n",
              "    <tr>\n",
              "      <th>379</th>\n",
              "      <td>81</td>\n",
              "      <td>M</td>\n",
              "      <td>Yes</td>\n",
              "      <td>No</td>\n",
              "      <td>Yes</td>\n",
              "      <td>Euthyroid</td>\n",
              "      <td>Multinodular goiter</td>\n",
              "      <td>Extensive</td>\n",
              "      <td>Papillary</td>\n",
              "      <td>Multi-Focal</td>\n",
              "      <td>High</td>\n",
              "      <td>T4b</td>\n",
              "      <td>N1b</td>\n",
              "      <td>M1</td>\n",
              "      <td>IVB</td>\n",
              "      <td>Structural Incomplete</td>\n",
              "      <td>Yes</td>\n",
              "    </tr>\n",
              "    <tr>\n",
              "      <th>380</th>\n",
              "      <td>72</td>\n",
              "      <td>M</td>\n",
              "      <td>Yes</td>\n",
              "      <td>Yes</td>\n",
              "      <td>No</td>\n",
              "      <td>Euthyroid</td>\n",
              "      <td>Multinodular goiter</td>\n",
              "      <td>Bilateral</td>\n",
              "      <td>Papillary</td>\n",
              "      <td>Multi-Focal</td>\n",
              "      <td>High</td>\n",
              "      <td>T4b</td>\n",
              "      <td>N1b</td>\n",
              "      <td>M1</td>\n",
              "      <td>IVB</td>\n",
              "      <td>Structural Incomplete</td>\n",
              "      <td>Yes</td>\n",
              "    </tr>\n",
              "    <tr>\n",
              "      <th>381</th>\n",
              "      <td>61</td>\n",
              "      <td>M</td>\n",
              "      <td>Yes</td>\n",
              "      <td>Yes</td>\n",
              "      <td>Yes</td>\n",
              "      <td>Clinical Hyperthyroidism</td>\n",
              "      <td>Multinodular goiter</td>\n",
              "      <td>Extensive</td>\n",
              "      <td>Hurthel cell</td>\n",
              "      <td>Multi-Focal</td>\n",
              "      <td>High</td>\n",
              "      <td>T4b</td>\n",
              "      <td>N1b</td>\n",
              "      <td>M0</td>\n",
              "      <td>IVA</td>\n",
              "      <td>Structural Incomplete</td>\n",
              "      <td>Yes</td>\n",
              "    </tr>\n",
              "    <tr>\n",
              "      <th>382</th>\n",
              "      <td>67</td>\n",
              "      <td>M</td>\n",
              "      <td>Yes</td>\n",
              "      <td>No</td>\n",
              "      <td>No</td>\n",
              "      <td>Euthyroid</td>\n",
              "      <td>Multinodular goiter</td>\n",
              "      <td>Bilateral</td>\n",
              "      <td>Papillary</td>\n",
              "      <td>Multi-Focal</td>\n",
              "      <td>High</td>\n",
              "      <td>T4b</td>\n",
              "      <td>N1b</td>\n",
              "      <td>M0</td>\n",
              "      <td>IVA</td>\n",
              "      <td>Structural Incomplete</td>\n",
              "      <td>Yes</td>\n",
              "    </tr>\n",
              "  </tbody>\n",
              "</table>\n",
              "<p>383 rows × 17 columns</p>\n",
              "</div>\n",
              "    <div class=\"colab-df-buttons\">\n",
              "\n",
              "  <div class=\"colab-df-container\">\n",
              "    <button class=\"colab-df-convert\" onclick=\"convertToInteractive('df-9cea3b5e-bdd9-46cc-a277-df6e17113aa0')\"\n",
              "            title=\"Convert this dataframe to an interactive table.\"\n",
              "            style=\"display:none;\">\n",
              "\n",
              "  <svg xmlns=\"http://www.w3.org/2000/svg\" height=\"24px\" viewBox=\"0 -960 960 960\">\n",
              "    <path d=\"M120-120v-720h720v720H120Zm60-500h600v-160H180v160Zm220 220h160v-160H400v160Zm0 220h160v-160H400v160ZM180-400h160v-160H180v160Zm440 0h160v-160H620v160ZM180-180h160v-160H180v160Zm440 0h160v-160H620v160Z\"/>\n",
              "  </svg>\n",
              "    </button>\n",
              "\n",
              "  <style>\n",
              "    .colab-df-container {\n",
              "      display:flex;\n",
              "      gap: 12px;\n",
              "    }\n",
              "\n",
              "    .colab-df-convert {\n",
              "      background-color: #E8F0FE;\n",
              "      border: none;\n",
              "      border-radius: 50%;\n",
              "      cursor: pointer;\n",
              "      display: none;\n",
              "      fill: #1967D2;\n",
              "      height: 32px;\n",
              "      padding: 0 0 0 0;\n",
              "      width: 32px;\n",
              "    }\n",
              "\n",
              "    .colab-df-convert:hover {\n",
              "      background-color: #E2EBFA;\n",
              "      box-shadow: 0px 1px 2px rgba(60, 64, 67, 0.3), 0px 1px 3px 1px rgba(60, 64, 67, 0.15);\n",
              "      fill: #174EA6;\n",
              "    }\n",
              "\n",
              "    .colab-df-buttons div {\n",
              "      margin-bottom: 4px;\n",
              "    }\n",
              "\n",
              "    [theme=dark] .colab-df-convert {\n",
              "      background-color: #3B4455;\n",
              "      fill: #D2E3FC;\n",
              "    }\n",
              "\n",
              "    [theme=dark] .colab-df-convert:hover {\n",
              "      background-color: #434B5C;\n",
              "      box-shadow: 0px 1px 3px 1px rgba(0, 0, 0, 0.15);\n",
              "      filter: drop-shadow(0px 1px 2px rgba(0, 0, 0, 0.3));\n",
              "      fill: #FFFFFF;\n",
              "    }\n",
              "  </style>\n",
              "\n",
              "    <script>\n",
              "      const buttonEl =\n",
              "        document.querySelector('#df-9cea3b5e-bdd9-46cc-a277-df6e17113aa0 button.colab-df-convert');\n",
              "      buttonEl.style.display =\n",
              "        google.colab.kernel.accessAllowed ? 'block' : 'none';\n",
              "\n",
              "      async function convertToInteractive(key) {\n",
              "        const element = document.querySelector('#df-9cea3b5e-bdd9-46cc-a277-df6e17113aa0');\n",
              "        const dataTable =\n",
              "          await google.colab.kernel.invokeFunction('convertToInteractive',\n",
              "                                                    [key], {});\n",
              "        if (!dataTable) return;\n",
              "\n",
              "        const docLinkHtml = 'Like what you see? Visit the ' +\n",
              "          '<a target=\"_blank\" href=https://colab.research.google.com/notebooks/data_table.ipynb>data table notebook</a>'\n",
              "          + ' to learn more about interactive tables.';\n",
              "        element.innerHTML = '';\n",
              "        dataTable['output_type'] = 'display_data';\n",
              "        await google.colab.output.renderOutput(dataTable, element);\n",
              "        const docLink = document.createElement('div');\n",
              "        docLink.innerHTML = docLinkHtml;\n",
              "        element.appendChild(docLink);\n",
              "      }\n",
              "    </script>\n",
              "  </div>\n",
              "\n",
              "\n",
              "<div id=\"df-57969a13-fdaa-467b-afa6-95b2b813f9c5\">\n",
              "  <button class=\"colab-df-quickchart\" onclick=\"quickchart('df-57969a13-fdaa-467b-afa6-95b2b813f9c5')\"\n",
              "            title=\"Suggest charts\"\n",
              "            style=\"display:none;\">\n",
              "\n",
              "<svg xmlns=\"http://www.w3.org/2000/svg\" height=\"24px\"viewBox=\"0 0 24 24\"\n",
              "     width=\"24px\">\n",
              "    <g>\n",
              "        <path d=\"M19 3H5c-1.1 0-2 .9-2 2v14c0 1.1.9 2 2 2h14c1.1 0 2-.9 2-2V5c0-1.1-.9-2-2-2zM9 17H7v-7h2v7zm4 0h-2V7h2v10zm4 0h-2v-4h2v4z\"/>\n",
              "    </g>\n",
              "</svg>\n",
              "  </button>\n",
              "\n",
              "<style>\n",
              "  .colab-df-quickchart {\n",
              "      --bg-color: #E8F0FE;\n",
              "      --fill-color: #1967D2;\n",
              "      --hover-bg-color: #E2EBFA;\n",
              "      --hover-fill-color: #174EA6;\n",
              "      --disabled-fill-color: #AAA;\n",
              "      --disabled-bg-color: #DDD;\n",
              "  }\n",
              "\n",
              "  [theme=dark] .colab-df-quickchart {\n",
              "      --bg-color: #3B4455;\n",
              "      --fill-color: #D2E3FC;\n",
              "      --hover-bg-color: #434B5C;\n",
              "      --hover-fill-color: #FFFFFF;\n",
              "      --disabled-bg-color: #3B4455;\n",
              "      --disabled-fill-color: #666;\n",
              "  }\n",
              "\n",
              "  .colab-df-quickchart {\n",
              "    background-color: var(--bg-color);\n",
              "    border: none;\n",
              "    border-radius: 50%;\n",
              "    cursor: pointer;\n",
              "    display: none;\n",
              "    fill: var(--fill-color);\n",
              "    height: 32px;\n",
              "    padding: 0;\n",
              "    width: 32px;\n",
              "  }\n",
              "\n",
              "  .colab-df-quickchart:hover {\n",
              "    background-color: var(--hover-bg-color);\n",
              "    box-shadow: 0 1px 2px rgba(60, 64, 67, 0.3), 0 1px 3px 1px rgba(60, 64, 67, 0.15);\n",
              "    fill: var(--button-hover-fill-color);\n",
              "  }\n",
              "\n",
              "  .colab-df-quickchart-complete:disabled,\n",
              "  .colab-df-quickchart-complete:disabled:hover {\n",
              "    background-color: var(--disabled-bg-color);\n",
              "    fill: var(--disabled-fill-color);\n",
              "    box-shadow: none;\n",
              "  }\n",
              "\n",
              "  .colab-df-spinner {\n",
              "    border: 2px solid var(--fill-color);\n",
              "    border-color: transparent;\n",
              "    border-bottom-color: var(--fill-color);\n",
              "    animation:\n",
              "      spin 1s steps(1) infinite;\n",
              "  }\n",
              "\n",
              "  @keyframes spin {\n",
              "    0% {\n",
              "      border-color: transparent;\n",
              "      border-bottom-color: var(--fill-color);\n",
              "      border-left-color: var(--fill-color);\n",
              "    }\n",
              "    20% {\n",
              "      border-color: transparent;\n",
              "      border-left-color: var(--fill-color);\n",
              "      border-top-color: var(--fill-color);\n",
              "    }\n",
              "    30% {\n",
              "      border-color: transparent;\n",
              "      border-left-color: var(--fill-color);\n",
              "      border-top-color: var(--fill-color);\n",
              "      border-right-color: var(--fill-color);\n",
              "    }\n",
              "    40% {\n",
              "      border-color: transparent;\n",
              "      border-right-color: var(--fill-color);\n",
              "      border-top-color: var(--fill-color);\n",
              "    }\n",
              "    60% {\n",
              "      border-color: transparent;\n",
              "      border-right-color: var(--fill-color);\n",
              "    }\n",
              "    80% {\n",
              "      border-color: transparent;\n",
              "      border-right-color: var(--fill-color);\n",
              "      border-bottom-color: var(--fill-color);\n",
              "    }\n",
              "    90% {\n",
              "      border-color: transparent;\n",
              "      border-bottom-color: var(--fill-color);\n",
              "    }\n",
              "  }\n",
              "</style>\n",
              "\n",
              "  <script>\n",
              "    async function quickchart(key) {\n",
              "      const quickchartButtonEl =\n",
              "        document.querySelector('#' + key + ' button');\n",
              "      quickchartButtonEl.disabled = true;  // To prevent multiple clicks.\n",
              "      quickchartButtonEl.classList.add('colab-df-spinner');\n",
              "      try {\n",
              "        const charts = await google.colab.kernel.invokeFunction(\n",
              "            'suggestCharts', [key], {});\n",
              "      } catch (error) {\n",
              "        console.error('Error during call to suggestCharts:', error);\n",
              "      }\n",
              "      quickchartButtonEl.classList.remove('colab-df-spinner');\n",
              "      quickchartButtonEl.classList.add('colab-df-quickchart-complete');\n",
              "    }\n",
              "    (() => {\n",
              "      let quickchartButtonEl =\n",
              "        document.querySelector('#df-57969a13-fdaa-467b-afa6-95b2b813f9c5 button');\n",
              "      quickchartButtonEl.style.display =\n",
              "        google.colab.kernel.accessAllowed ? 'block' : 'none';\n",
              "    })();\n",
              "  </script>\n",
              "</div>\n",
              "\n",
              "  <div id=\"id_24fd2f83-9826-4ac5-ad07-cb988ccbe15d\">\n",
              "    <style>\n",
              "      .colab-df-generate {\n",
              "        background-color: #E8F0FE;\n",
              "        border: none;\n",
              "        border-radius: 50%;\n",
              "        cursor: pointer;\n",
              "        display: none;\n",
              "        fill: #1967D2;\n",
              "        height: 32px;\n",
              "        padding: 0 0 0 0;\n",
              "        width: 32px;\n",
              "      }\n",
              "\n",
              "      .colab-df-generate:hover {\n",
              "        background-color: #E2EBFA;\n",
              "        box-shadow: 0px 1px 2px rgba(60, 64, 67, 0.3), 0px 1px 3px 1px rgba(60, 64, 67, 0.15);\n",
              "        fill: #174EA6;\n",
              "      }\n",
              "\n",
              "      [theme=dark] .colab-df-generate {\n",
              "        background-color: #3B4455;\n",
              "        fill: #D2E3FC;\n",
              "      }\n",
              "\n",
              "      [theme=dark] .colab-df-generate:hover {\n",
              "        background-color: #434B5C;\n",
              "        box-shadow: 0px 1px 3px 1px rgba(0, 0, 0, 0.15);\n",
              "        filter: drop-shadow(0px 1px 2px rgba(0, 0, 0, 0.3));\n",
              "        fill: #FFFFFF;\n",
              "      }\n",
              "    </style>\n",
              "    <button class=\"colab-df-generate\" onclick=\"generateWithVariable('pima')\"\n",
              "            title=\"Generate code using this dataframe.\"\n",
              "            style=\"display:none;\">\n",
              "\n",
              "  <svg xmlns=\"http://www.w3.org/2000/svg\" height=\"24px\"viewBox=\"0 0 24 24\"\n",
              "       width=\"24px\">\n",
              "    <path d=\"M7,19H8.4L18.45,9,17,7.55,7,17.6ZM5,21V16.75L18.45,3.32a2,2,0,0,1,2.83,0l1.4,1.43a1.91,1.91,0,0,1,.58,1.4,1.91,1.91,0,0,1-.58,1.4L9.25,21ZM18.45,9,17,7.55Zm-12,3A5.31,5.31,0,0,0,4.9,8.1,5.31,5.31,0,0,0,1,6.5,5.31,5.31,0,0,0,4.9,4.9,5.31,5.31,0,0,0,6.5,1,5.31,5.31,0,0,0,8.1,4.9,5.31,5.31,0,0,0,12,6.5,5.46,5.46,0,0,0,6.5,12Z\"/>\n",
              "  </svg>\n",
              "    </button>\n",
              "    <script>\n",
              "      (() => {\n",
              "      const buttonEl =\n",
              "        document.querySelector('#id_24fd2f83-9826-4ac5-ad07-cb988ccbe15d button.colab-df-generate');\n",
              "      buttonEl.style.display =\n",
              "        google.colab.kernel.accessAllowed ? 'block' : 'none';\n",
              "\n",
              "      buttonEl.onclick = () => {\n",
              "        google.colab.notebook.generateWithVariable('pima');\n",
              "      }\n",
              "      })();\n",
              "    </script>\n",
              "  </div>\n",
              "\n",
              "    </div>\n",
              "  </div>\n"
            ],
            "application/vnd.google.colaboratory.intrinsic+json": {
              "type": "dataframe",
              "variable_name": "pima",
              "summary": "{\n  \"name\": \"pima\",\n  \"rows\": 383,\n  \"fields\": [\n    {\n      \"column\": \"Age\",\n      \"properties\": {\n        \"dtype\": \"number\",\n        \"std\": 15,\n        \"min\": 15,\n        \"max\": 82,\n        \"num_unique_values\": 65,\n        \"samples\": [\n          48,\n          15,\n          27\n        ],\n        \"semantic_type\": \"\",\n        \"description\": \"\"\n      }\n    },\n    {\n      \"column\": \"Gender\",\n      \"properties\": {\n        \"dtype\": \"category\",\n        \"num_unique_values\": 2,\n        \"samples\": [\n          \"M\",\n          \"F\"\n        ],\n        \"semantic_type\": \"\",\n        \"description\": \"\"\n      }\n    },\n    {\n      \"column\": \"Smoking\",\n      \"properties\": {\n        \"dtype\": \"category\",\n        \"num_unique_values\": 2,\n        \"samples\": [\n          \"Yes\",\n          \"No\"\n        ],\n        \"semantic_type\": \"\",\n        \"description\": \"\"\n      }\n    },\n    {\n      \"column\": \"Hx Smoking\",\n      \"properties\": {\n        \"dtype\": \"category\",\n        \"num_unique_values\": 2,\n        \"samples\": [\n          \"Yes\",\n          \"No\"\n        ],\n        \"semantic_type\": \"\",\n        \"description\": \"\"\n      }\n    },\n    {\n      \"column\": \"Hx Radiothreapy\",\n      \"properties\": {\n        \"dtype\": \"category\",\n        \"num_unique_values\": 2,\n        \"samples\": [\n          \"Yes\",\n          \"No\"\n        ],\n        \"semantic_type\": \"\",\n        \"description\": \"\"\n      }\n    },\n    {\n      \"column\": \"Thyroid Function\",\n      \"properties\": {\n        \"dtype\": \"category\",\n        \"num_unique_values\": 5,\n        \"samples\": [\n          \"Clinical Hyperthyroidism\",\n          \"Subclinical Hypothyroidism\"\n        ],\n        \"semantic_type\": \"\",\n        \"description\": \"\"\n      }\n    },\n    {\n      \"column\": \"Physical Examination\",\n      \"properties\": {\n        \"dtype\": \"category\",\n        \"num_unique_values\": 5,\n        \"samples\": [\n          \"Multinodular goiter\",\n          \"Diffuse goiter\"\n        ],\n        \"semantic_type\": \"\",\n        \"description\": \"\"\n      }\n    },\n    {\n      \"column\": \"Adenopathy\",\n      \"properties\": {\n        \"dtype\": \"category\",\n        \"num_unique_values\": 6,\n        \"samples\": [\n          \"No\",\n          \"Right\"\n        ],\n        \"semantic_type\": \"\",\n        \"description\": \"\"\n      }\n    },\n    {\n      \"column\": \"Pathology\",\n      \"properties\": {\n        \"dtype\": \"category\",\n        \"num_unique_values\": 4,\n        \"samples\": [\n          \"Papillary\",\n          \"Hurthel cell\"\n        ],\n        \"semantic_type\": \"\",\n        \"description\": \"\"\n      }\n    },\n    {\n      \"column\": \"Focality\",\n      \"properties\": {\n        \"dtype\": \"category\",\n        \"num_unique_values\": 2,\n        \"samples\": [\n          \"Multi-Focal\",\n          \"Uni-Focal\"\n        ],\n        \"semantic_type\": \"\",\n        \"description\": \"\"\n      }\n    },\n    {\n      \"column\": \"Risk\",\n      \"properties\": {\n        \"dtype\": \"category\",\n        \"num_unique_values\": 3,\n        \"samples\": [\n          \"Low\",\n          \"Intermediate\"\n        ],\n        \"semantic_type\": \"\",\n        \"description\": \"\"\n      }\n    },\n    {\n      \"column\": \"T\",\n      \"properties\": {\n        \"dtype\": \"category\",\n        \"num_unique_values\": 7,\n        \"samples\": [\n          \"T1a\",\n          \"T1b\"\n        ],\n        \"semantic_type\": \"\",\n        \"description\": \"\"\n      }\n    },\n    {\n      \"column\": \"N\",\n      \"properties\": {\n        \"dtype\": \"category\",\n        \"num_unique_values\": 3,\n        \"samples\": [\n          \"N0\",\n          \"N1b\"\n        ],\n        \"semantic_type\": \"\",\n        \"description\": \"\"\n      }\n    },\n    {\n      \"column\": \"M\",\n      \"properties\": {\n        \"dtype\": \"category\",\n        \"num_unique_values\": 2,\n        \"samples\": [\n          \"M1\",\n          \"M0\"\n        ],\n        \"semantic_type\": \"\",\n        \"description\": \"\"\n      }\n    },\n    {\n      \"column\": \"Stage\",\n      \"properties\": {\n        \"dtype\": \"category\",\n        \"num_unique_values\": 5,\n        \"samples\": [\n          \"II\",\n          \"IVA\"\n        ],\n        \"semantic_type\": \"\",\n        \"description\": \"\"\n      }\n    },\n    {\n      \"column\": \"Response\",\n      \"properties\": {\n        \"dtype\": \"category\",\n        \"num_unique_values\": 4,\n        \"samples\": [\n          \"Excellent\",\n          \"Biochemical Incomplete\"\n        ],\n        \"semantic_type\": \"\",\n        \"description\": \"\"\n      }\n    },\n    {\n      \"column\": \"Recurred\",\n      \"properties\": {\n        \"dtype\": \"category\",\n        \"num_unique_values\": 2,\n        \"samples\": [\n          \"Yes\",\n          \"No\"\n        ],\n        \"semantic_type\": \"\",\n        \"description\": \"\"\n      }\n    }\n  ]\n}"
            }
          },
          "metadata": {},
          "execution_count": 43
        }
      ]
    },
    {
      "cell_type": "code",
      "source": [
        "pima.isnull().sum()"
      ],
      "metadata": {
        "colab": {
          "base_uri": "https://localhost:8080/",
          "height": 617
        },
        "id": "rePNw6onItUt",
        "outputId": "e1d6d422-a167-46e5-d4cd-b153f71e1022"
      },
      "execution_count": null,
      "outputs": [
        {
          "output_type": "execute_result",
          "data": {
            "text/plain": [
              "Age                     0\n",
              "Gender                  0\n",
              "Smoking                 0\n",
              "Hx Smoking              0\n",
              "Hx Radiothreapy         0\n",
              "Thyroid Function        0\n",
              "Physical Examination    0\n",
              "Adenopathy              0\n",
              "Pathology               0\n",
              "Focality                0\n",
              "Risk                    0\n",
              "T                       0\n",
              "N                       0\n",
              "M                       0\n",
              "Stage                   0\n",
              "Response                0\n",
              "Recurred                0\n",
              "dtype: int64"
            ],
            "text/html": [
              "<div>\n",
              "<style scoped>\n",
              "    .dataframe tbody tr th:only-of-type {\n",
              "        vertical-align: middle;\n",
              "    }\n",
              "\n",
              "    .dataframe tbody tr th {\n",
              "        vertical-align: top;\n",
              "    }\n",
              "\n",
              "    .dataframe thead th {\n",
              "        text-align: right;\n",
              "    }\n",
              "</style>\n",
              "<table border=\"1\" class=\"dataframe\">\n",
              "  <thead>\n",
              "    <tr style=\"text-align: right;\">\n",
              "      <th></th>\n",
              "      <th>0</th>\n",
              "    </tr>\n",
              "  </thead>\n",
              "  <tbody>\n",
              "    <tr>\n",
              "      <th>Age</th>\n",
              "      <td>0</td>\n",
              "    </tr>\n",
              "    <tr>\n",
              "      <th>Gender</th>\n",
              "      <td>0</td>\n",
              "    </tr>\n",
              "    <tr>\n",
              "      <th>Smoking</th>\n",
              "      <td>0</td>\n",
              "    </tr>\n",
              "    <tr>\n",
              "      <th>Hx Smoking</th>\n",
              "      <td>0</td>\n",
              "    </tr>\n",
              "    <tr>\n",
              "      <th>Hx Radiothreapy</th>\n",
              "      <td>0</td>\n",
              "    </tr>\n",
              "    <tr>\n",
              "      <th>Thyroid Function</th>\n",
              "      <td>0</td>\n",
              "    </tr>\n",
              "    <tr>\n",
              "      <th>Physical Examination</th>\n",
              "      <td>0</td>\n",
              "    </tr>\n",
              "    <tr>\n",
              "      <th>Adenopathy</th>\n",
              "      <td>0</td>\n",
              "    </tr>\n",
              "    <tr>\n",
              "      <th>Pathology</th>\n",
              "      <td>0</td>\n",
              "    </tr>\n",
              "    <tr>\n",
              "      <th>Focality</th>\n",
              "      <td>0</td>\n",
              "    </tr>\n",
              "    <tr>\n",
              "      <th>Risk</th>\n",
              "      <td>0</td>\n",
              "    </tr>\n",
              "    <tr>\n",
              "      <th>T</th>\n",
              "      <td>0</td>\n",
              "    </tr>\n",
              "    <tr>\n",
              "      <th>N</th>\n",
              "      <td>0</td>\n",
              "    </tr>\n",
              "    <tr>\n",
              "      <th>M</th>\n",
              "      <td>0</td>\n",
              "    </tr>\n",
              "    <tr>\n",
              "      <th>Stage</th>\n",
              "      <td>0</td>\n",
              "    </tr>\n",
              "    <tr>\n",
              "      <th>Response</th>\n",
              "      <td>0</td>\n",
              "    </tr>\n",
              "    <tr>\n",
              "      <th>Recurred</th>\n",
              "      <td>0</td>\n",
              "    </tr>\n",
              "  </tbody>\n",
              "</table>\n",
              "</div><br><label><b>dtype:</b> int64</label>"
            ]
          },
          "metadata": {},
          "execution_count": 4
        }
      ]
    },
    {
      "cell_type": "code",
      "source": [
        "pima.columns"
      ],
      "metadata": {
        "colab": {
          "base_uri": "https://localhost:8080/"
        },
        "id": "Oz-sCxY30hvC",
        "outputId": "520f8178-ef8a-4492-e41c-a3693477e094"
      },
      "execution_count": null,
      "outputs": [
        {
          "output_type": "execute_result",
          "data": {
            "text/plain": [
              "Index(['Age', 'Gender', 'Smoking', 'Hx Smoking', 'Hx Radiothreapy',\n",
              "       'Thyroid Function', 'Physical Examination', 'Adenopathy', 'Pathology',\n",
              "       'Focality', 'Risk', 'T', 'N', 'M', 'Stage', 'Response', 'Recurred'],\n",
              "      dtype='object')"
            ]
          },
          "metadata": {},
          "execution_count": 7
        }
      ]
    },
    {
      "cell_type": "code",
      "source": [
        "num_columns = len(pima.columns)\n",
        "num_columns"
      ],
      "metadata": {
        "colab": {
          "base_uri": "https://localhost:8080/"
        },
        "id": "OHCkcxpy7oW7",
        "outputId": "a60a5dc9-f083-4458-a398-9635367cdd42"
      },
      "execution_count": null,
      "outputs": [
        {
          "output_type": "execute_result",
          "data": {
            "text/plain": [
              "17"
            ]
          },
          "metadata": {},
          "execution_count": 6
        }
      ]
    },
    {
      "cell_type": "markdown",
      "source": [
        "#Save Clean Data"
      ],
      "metadata": {
        "id": "nhlmHiecqP4g"
      }
    },
    {
      "cell_type": "code",
      "source": [
        "from google.colab import files\n",
        "\n",
        "pima.to_csv('Thyroid_Diff_Clean.csv', index=False)\n",
        "\n",
        "files.download('Thyroid_Diff_Clean.csv')"
      ],
      "metadata": {
        "id": "3CgeWTpoZBTR"
      },
      "execution_count": null,
      "outputs": []
    },
    {
      "cell_type": "markdown",
      "source": [
        "#Split Data for test"
      ],
      "metadata": {
        "id": "l3hA7X8qWMLU"
      }
    },
    {
      "cell_type": "code",
      "source": [
        "from sklearn.model_selection import train_test_split\n",
        "X = pima.drop('Recurred', axis=1)\n",
        "y = pima['Recurred']\n",
        "X_train, X_test, y_train, y_test = train_test_split(X, y, test_size=0.2, random_state=42)"
      ],
      "metadata": {
        "id": "vlD1nux3UaLM"
      },
      "execution_count": null,
      "outputs": []
    },
    {
      "cell_type": "code",
      "source": [
        "import pandas as pd\n",
        "\n",
        "# สมมุติว่า X_test และ y_test เป็น DataFrame หรือ Array\n",
        "X_test_df = pd.DataFrame(X_test)  # แปลง X_test ให้เป็น DataFrame\n",
        "y_test_df = pd.DataFrame(y_test)  # แปลง y_test ให้เป็น DataFrame พร้อมตั้งชื่อ column\n",
        "\n",
        "# รวม X_test กับ y_test\n",
        "combined_df = pd.concat([X_test_df, y_test_df], axis=1)\n",
        "\n",
        "# แสดงผลลัพธ์\n",
        "print(combined_df)"
      ],
      "metadata": {
        "colab": {
          "base_uri": "https://localhost:8080/"
        },
        "id": "PvA0CABRVtEU",
        "outputId": "2aef7dab-50c2-4ed0-c0ec-6aef28f3f6df"
      },
      "execution_count": null,
      "outputs": [
        {
          "output_type": "stream",
          "name": "stdout",
          "text": [
            "     Age Gender Smoking Hx Smoking Hx Radiothreapy  \\\n",
            "268   32      F      No         No              No   \n",
            "250   30      F      No         No              No   \n",
            "318   30      F      No         No              No   \n",
            "331   51      F      No         No              No   \n",
            "56    43      F      No        Yes              No   \n",
            "..   ...    ...     ...        ...             ...   \n",
            "104   33      F      No         No              No   \n",
            "167   55      F      No         No              No   \n",
            "63    54      F      No         No              No   \n",
            "233   34      F      No         No              No   \n",
            "84    33      F      No         No              No   \n",
            "\n",
            "               Thyroid Function         Physical Examination Adenopathy  \\\n",
            "268                   Euthyroid   Single nodular goiter-left         No   \n",
            "250  Subclinical Hypothyroidism                       Normal      Right   \n",
            "318                   Euthyroid          Multinodular goiter  Bilateral   \n",
            "331                   Euthyroid   Single nodular goiter-left         No   \n",
            "56                    Euthyroid  Single nodular goiter-right         No   \n",
            "..                          ...                          ...        ...   \n",
            "104     Clinical Hypothyroidism  Single nodular goiter-right      Right   \n",
            "167                   Euthyroid   Single nodular goiter-left         No   \n",
            "63                    Euthyroid          Multinodular goiter         No   \n",
            "233                   Euthyroid  Single nodular goiter-right      Right   \n",
            "84                    Euthyroid   Single nodular goiter-left         No   \n",
            "\n",
            "      Pathology     Focality          Risk    T    N   M Stage  \\\n",
            "268   Papillary    Uni-Focal           Low  T3a   N0  M0     I   \n",
            "250  Follicular    Uni-Focal           Low  T3a   N0  M0     I   \n",
            "318   Papillary  Multi-Focal  Intermediate  T3a  N1b  M0     I   \n",
            "331  Follicular    Uni-Focal  Intermediate  T3a   N0  M0     I   \n",
            "56    Papillary    Uni-Focal           Low  T1b   N0  M0     I   \n",
            "..          ...          ...           ...  ...  ...  ..   ...   \n",
            "104   Papillary    Uni-Focal           Low   T2   N0  M0     I   \n",
            "167   Papillary    Uni-Focal           Low   T2   N0  M0     I   \n",
            "63    Papillary    Uni-Focal           Low  T1b   N0  M0     I   \n",
            "233   Papillary    Uni-Focal  Intermediate   T2  N1b  M0     I   \n",
            "84    Papillary    Uni-Focal  Intermediate  T1b  N1b  M0     I   \n",
            "\n",
            "                  Response Recurred  \n",
            "268              Excellent       No  \n",
            "250              Excellent       No  \n",
            "318  Structural Incomplete      Yes  \n",
            "331  Structural Incomplete      Yes  \n",
            "56               Excellent       No  \n",
            "..                     ...      ...  \n",
            "104              Excellent       No  \n",
            "167              Excellent       No  \n",
            "63           Indeterminate       No  \n",
            "233  Structural Incomplete      Yes  \n",
            "84           Indeterminate       No  \n",
            "\n",
            "[77 rows x 17 columns]\n"
          ]
        }
      ]
    },
    {
      "cell_type": "code",
      "source": [
        "# ดาวน์โหลด DataFrame เป็นไฟล์ CSV\n",
        "combined_df.to_csv('X_test_y_test.csv', index=False)\n",
        "\n",
        "# สำหรับการดาวน์โหลดใน Colab\n",
        "from google.colab import files\n",
        "files.download('X_test_y_test.csv')"
      ],
      "metadata": {
        "colab": {
          "base_uri": "https://localhost:8080/",
          "height": 17
        },
        "id": "KpJmZDbuV-w0",
        "outputId": "deb8cf45-1c71-4081-f604-bf8e824bb519"
      },
      "execution_count": null,
      "outputs": [
        {
          "output_type": "display_data",
          "data": {
            "text/plain": [
              "<IPython.core.display.Javascript object>"
            ],
            "application/javascript": [
              "\n",
              "    async function download(id, filename, size) {\n",
              "      if (!google.colab.kernel.accessAllowed) {\n",
              "        return;\n",
              "      }\n",
              "      const div = document.createElement('div');\n",
              "      const label = document.createElement('label');\n",
              "      label.textContent = `Downloading \"${filename}\": `;\n",
              "      div.appendChild(label);\n",
              "      const progress = document.createElement('progress');\n",
              "      progress.max = size;\n",
              "      div.appendChild(progress);\n",
              "      document.body.appendChild(div);\n",
              "\n",
              "      const buffers = [];\n",
              "      let downloaded = 0;\n",
              "\n",
              "      const channel = await google.colab.kernel.comms.open(id);\n",
              "      // Send a message to notify the kernel that we're ready.\n",
              "      channel.send({})\n",
              "\n",
              "      for await (const message of channel.messages) {\n",
              "        // Send a message to notify the kernel that we're ready.\n",
              "        channel.send({})\n",
              "        if (message.buffers) {\n",
              "          for (const buffer of message.buffers) {\n",
              "            buffers.push(buffer);\n",
              "            downloaded += buffer.byteLength;\n",
              "            progress.value = downloaded;\n",
              "          }\n",
              "        }\n",
              "      }\n",
              "      const blob = new Blob(buffers, {type: 'application/binary'});\n",
              "      const a = document.createElement('a');\n",
              "      a.href = window.URL.createObjectURL(blob);\n",
              "      a.download = filename;\n",
              "      div.appendChild(a);\n",
              "      a.click();\n",
              "      div.remove();\n",
              "    }\n",
              "  "
            ]
          },
          "metadata": {}
        },
        {
          "output_type": "display_data",
          "data": {
            "text/plain": [
              "<IPython.core.display.Javascript object>"
            ],
            "application/javascript": [
              "download(\"download_1f534758-828b-4a13-9ab8-4fa34c572b61\", \"X_test_y_test.csv\", 8679)"
            ]
          },
          "metadata": {}
        }
      ]
    }
  ]
}